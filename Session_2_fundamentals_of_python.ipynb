{
 "cells": [
  {
   "cell_type": "code",
   "execution_count": 1,
   "id": "15572c91",
   "metadata": {},
   "outputs": [
    {
     "name": "stdout",
     "output_type": "stream",
     "text": [
      "The Zen of Python, by Tim Peters\n",
      "\n",
      "Beautiful is better than ugly.\n",
      "Explicit is better than implicit.\n",
      "Simple is better than complex.\n",
      "Complex is better than complicated.\n",
      "Flat is better than nested.\n",
      "Sparse is better than dense.\n",
      "Readability counts.\n",
      "Special cases aren't special enough to break the rules.\n",
      "Although practicality beats purity.\n",
      "Errors should never pass silently.\n",
      "Unless explicitly silenced.\n",
      "In the face of ambiguity, refuse the temptation to guess.\n",
      "There should be one-- and preferably only one --obvious way to do it.\n",
      "Although that way may not be obvious at first unless you're Dutch.\n",
      "Now is better than never.\n",
      "Although never is often better than *right* now.\n",
      "If the implementation is hard to explain, it's a bad idea.\n",
      "If the implementation is easy to explain, it may be a good idea.\n",
      "Namespaces are one honking great idea -- let's do more of those!\n"
     ]
    }
   ],
   "source": [
    "import this"
   ]
  },
  {
   "cell_type": "code",
   "execution_count": 2,
   "id": "02c428d5",
   "metadata": {},
   "outputs": [
    {
     "name": "stdout",
     "output_type": "stream",
     "text": [
      "AI Ki Paathshala\n"
     ]
    }
   ],
   "source": [
    "#print\n",
    "print(\"AI Ki Paathshala\")"
   ]
  },
  {
   "cell_type": "code",
   "execution_count": 3,
   "id": "7aa0d80f",
   "metadata": {},
   "outputs": [
    {
     "name": "stdout",
     "output_type": "stream",
     "text": [
      "AI Ki Paathshala\n"
     ]
    }
   ],
   "source": [
    "print('AI Ki Paathshala')"
   ]
  },
  {
   "cell_type": "code",
   "execution_count": 4,
   "id": "d92bf3df",
   "metadata": {},
   "outputs": [
    {
     "ename": "SyntaxError",
     "evalue": "invalid syntax. Perhaps you forgot a comma? (3389139383.py, line 1)",
     "output_type": "error",
     "traceback": [
      "\u001b[0;36m  Cell \u001b[0;32mIn[4], line 1\u001b[0;36m\u001b[0m\n\u001b[0;31m    print(AI Ki Paathshala)\u001b[0m\n\u001b[0m          ^\u001b[0m\n\u001b[0;31mSyntaxError\u001b[0m\u001b[0;31m:\u001b[0m invalid syntax. Perhaps you forgot a comma?\n"
     ]
    }
   ],
   "source": [
    "print(AI Ki Paathshala)"
   ]
  },
  {
   "cell_type": "code",
   "execution_count": 5,
   "id": "0a26a7dd",
   "metadata": {},
   "outputs": [
    {
     "ename": "SyntaxError",
     "evalue": "Missing parentheses in call to 'print'. Did you mean print(...)? (353732551.py, line 1)",
     "output_type": "error",
     "traceback": [
      "\u001b[0;36m  Cell \u001b[0;32mIn[5], line 1\u001b[0;36m\u001b[0m\n\u001b[0;31m    print'AI Ki Paathshala'\u001b[0m\n\u001b[0m    ^\u001b[0m\n\u001b[0;31mSyntaxError\u001b[0m\u001b[0;31m:\u001b[0m Missing parentheses in call to 'print'. Did you mean print(...)?\n"
     ]
    }
   ],
   "source": [
    "print'AI Ki Paathshala'"
   ]
  },
  {
   "cell_type": "code",
   "execution_count": 6,
   "id": "92865814",
   "metadata": {},
   "outputs": [],
   "source": [
    "# () == Parenthesis"
   ]
  },
  {
   "cell_type": "code",
   "execution_count": 7,
   "id": "92832fb2",
   "metadata": {},
   "outputs": [
    {
     "ename": "SyntaxError",
     "evalue": "incomplete input (755950890.py, line 1)",
     "output_type": "error",
     "traceback": [
      "\u001b[0;36m  Cell \u001b[0;32mIn[7], line 1\u001b[0;36m\u001b[0m\n\u001b[0;31m    print('AI Ki Paathshala'\u001b[0m\n\u001b[0m                            ^\u001b[0m\n\u001b[0;31mSyntaxError\u001b[0m\u001b[0;31m:\u001b[0m incomplete input\n"
     ]
    }
   ],
   "source": [
    "print('AI Ki Paathshala'"
   ]
  },
  {
   "cell_type": "code",
   "execution_count": 8,
   "id": "1837bf4a",
   "metadata": {},
   "outputs": [
    {
     "name": "stdout",
     "output_type": "stream",
     "text": [
      "Greeting from AI KI Paathshala\n"
     ]
    }
   ],
   "source": [
    "print(\"Greeting from AI KI Paathshala\")"
   ]
  },
  {
   "cell_type": "code",
   "execution_count": 9,
   "id": "78ff1342",
   "metadata": {},
   "outputs": [
    {
     "name": "stdout",
     "output_type": "stream",
     "text": [
      "Good morning\n"
     ]
    }
   ],
   "source": [
    "print('Good morning')"
   ]
  },
  {
   "cell_type": "code",
   "execution_count": 10,
   "id": "17ca6462",
   "metadata": {},
   "outputs": [
    {
     "name": "stdout",
     "output_type": "stream",
     "text": [
      "work hard and keep yourself busy at least 15 hours a day\n"
     ]
    }
   ],
   "source": [
    "print('work hard and keep yourself busy at least 15 hours a day')"
   ]
  },
  {
   "cell_type": "code",
   "execution_count": 11,
   "id": "abb81d7c",
   "metadata": {},
   "outputs": [
    {
     "name": "stdout",
     "output_type": "stream",
     "text": [
      "All our dreams can come true, if we have the courage to pursue them. - walt Disney\n"
     ]
    }
   ],
   "source": [
    "print('All our dreams can come true, if we have the courage to pursue them. - walt Disney')"
   ]
  },
  {
   "cell_type": "code",
   "execution_count": 12,
   "id": "6f541223",
   "metadata": {},
   "outputs": [],
   "source": [
    "# comments in python #"
   ]
  },
  {
   "cell_type": "code",
   "execution_count": 13,
   "id": "5f8a76ef",
   "metadata": {},
   "outputs": [
    {
     "name": "stdout",
     "output_type": "stream",
     "text": [
      "As this line is not commented, the print statement will execute this and print this statement\n"
     ]
    }
   ],
   "source": [
    "#print(\"Greeting from AI KI Paathshala\")\n",
    "#print('Good morning')\n",
    "#print('work hard and keep yourself busy at least 15 hours a day')\n",
    "#print('All our dreams can come true, if we have the courage to pursue them. - walt Disney')\n",
    "print(\"As this line is not commented, the print statement will execute this and print this statement\")"
   ]
  },
  {
   "cell_type": "code",
   "execution_count": 14,
   "id": "d8233d91",
   "metadata": {},
   "outputs": [
    {
     "name": "stdout",
     "output_type": "stream",
     "text": [
      "As this line is not commented, the print statement will execute this and print this statement\n"
     ]
    }
   ],
   "source": [
    "# Multi-line commenting\n",
    "\"\"\"print(\"Greeting from AI KI Paathshala\")\n",
    "print('Good morning')\n",
    "print('work hard and keep yourself busy at least 15 hours a day')\n",
    "print('All our dreams can come true, if we have the courage to pursue them. - walt Disney')\"\"\"\n",
    "print(\"As this line is not commented, the print statement will execute this and print this statement\")"
   ]
  },
  {
   "cell_type": "code",
   "execution_count": 15,
   "id": "e92def82",
   "metadata": {},
   "outputs": [
    {
     "name": "stdout",
     "output_type": "stream",
     "text": [
      "As this line is not commented, the print statement will execute this and print this statement\n"
     ]
    }
   ],
   "source": [
    "'''print(\"Greeting from AI KI Paathshala\")\n",
    "print('Good morning')\n",
    "print('work hard and keep yourself busy at least 15 hours a day')\n",
    "print('All our dreams can come true, if we have the courage to pursue them. - walt Disney')'''\n",
    "print(\"As this line is not commented, the print statement will execute this and print this statement\")"
   ]
  },
  {
   "cell_type": "code",
   "execution_count": 16,
   "id": "2329da95",
   "metadata": {},
   "outputs": [
    {
     "ename": "SyntaxError",
     "evalue": "unterminated string literal (detected at line 1) (1916910263.py, line 1)",
     "output_type": "error",
     "traceback": [
      "\u001b[0;36m  Cell \u001b[0;32mIn[16], line 1\u001b[0;36m\u001b[0m\n\u001b[0;31m    print('This article belong's to Mary')\u001b[0m\n\u001b[0m                                        ^\u001b[0m\n\u001b[0;31mSyntaxError\u001b[0m\u001b[0;31m:\u001b[0m unterminated string literal (detected at line 1)\n"
     ]
    }
   ],
   "source": [
    "print('This article belong's to Mary')"
   ]
  },
  {
   "cell_type": "code",
   "execution_count": 17,
   "id": "6a538f0f",
   "metadata": {},
   "outputs": [
    {
     "name": "stdout",
     "output_type": "stream",
     "text": [
      "This article belong's to Mary\n"
     ]
    }
   ],
   "source": [
    "print(\"This article belong's to Mary\")"
   ]
  },
  {
   "cell_type": "code",
   "execution_count": 18,
   "id": "d79f6a08",
   "metadata": {},
   "outputs": [
    {
     "name": "stdout",
     "output_type": "stream",
     "text": [
      "['False', 'None', 'True', 'and', 'as', 'assert', 'async', 'await', 'break', 'class', 'continue', 'def', 'del', 'elif', 'else', 'except', 'finally', 'for', 'from', 'global', 'if', 'import', 'in', 'is', 'lambda', 'nonlocal', 'not', 'or', 'pass', 'raise', 'return', 'try', 'while', 'with', 'yield']\n"
     ]
    }
   ],
   "source": [
    "# Keywords in python\n",
    "\n",
    "#keywords are reserved words in python\n",
    "\n",
    "import keyword\n",
    "\n",
    "print(keyword.kwlist)"
   ]
  },
  {
   "cell_type": "code",
   "execution_count": 19,
   "id": "9ba064a5",
   "metadata": {},
   "outputs": [
    {
     "name": "stdout",
     "output_type": "stream",
     "text": [
      "keyword.kwlist\n"
     ]
    }
   ],
   "source": [
    "print('keyword.kwlist')"
   ]
  },
  {
   "cell_type": "code",
   "execution_count": 20,
   "id": "80eccf88",
   "metadata": {},
   "outputs": [
    {
     "name": "stdout",
     "output_type": "stream",
     "text": [
      "anup\n",
      "145.67\n",
      "AI\n"
     ]
    }
   ],
   "source": [
    "#Variable\n",
    "\n",
    "name = 'anup'\n",
    "print(name)\n",
    "number = 145.67\n",
    "print(number)\n",
    "course = 'AI'\n",
    "print(course)"
   ]
  },
  {
   "cell_type": "code",
   "execution_count": 21,
   "id": "22b2ebdc",
   "metadata": {},
   "outputs": [],
   "source": [
    "a = 5\n",
    "b = 10"
   ]
  },
  {
   "cell_type": "code",
   "execution_count": 22,
   "id": "a70253b0",
   "metadata": {},
   "outputs": [
    {
     "name": "stdout",
     "output_type": "stream",
     "text": [
      "4342965280\n",
      "4342965440\n"
     ]
    }
   ],
   "source": [
    "print(id(a))\n",
    "print(id(b))"
   ]
  },
  {
   "cell_type": "code",
   "execution_count": 23,
   "id": "13083847",
   "metadata": {},
   "outputs": [],
   "source": [
    "num = 10"
   ]
  },
  {
   "cell_type": "code",
   "execution_count": 24,
   "id": "6e48630c",
   "metadata": {},
   "outputs": [
    {
     "name": "stdout",
     "output_type": "stream",
     "text": [
      "4342965440\n"
     ]
    }
   ],
   "source": [
    "print(id(10))"
   ]
  },
  {
   "cell_type": "code",
   "execution_count": 25,
   "id": "cea10763",
   "metadata": {},
   "outputs": [
    {
     "data": {
      "text/plain": [
       "True"
      ]
     },
     "execution_count": 25,
     "metadata": {},
     "output_type": "execute_result"
    }
   ],
   "source": [
    "id(b) == id(num)"
   ]
  },
  {
   "cell_type": "code",
   "execution_count": 26,
   "id": "3717fe3c",
   "metadata": {},
   "outputs": [
    {
     "data": {
      "text/plain": [
       "False"
      ]
     },
     "execution_count": 26,
     "metadata": {},
     "output_type": "execute_result"
    }
   ],
   "source": [
    "id(a) == id(b)"
   ]
  },
  {
   "cell_type": "code",
   "execution_count": 27,
   "id": "a3d649c9",
   "metadata": {},
   "outputs": [],
   "source": [
    "# Multiple Assignment\n",
    "\n",
    "a , b , c = 10, 9.8, 'DL'"
   ]
  },
  {
   "cell_type": "code",
   "execution_count": 28,
   "id": "3ff212d5",
   "metadata": {},
   "outputs": [
    {
     "data": {
      "text/plain": [
       "10"
      ]
     },
     "execution_count": 28,
     "metadata": {},
     "output_type": "execute_result"
    }
   ],
   "source": [
    "a"
   ]
  },
  {
   "cell_type": "code",
   "execution_count": 29,
   "id": "f2b25f2e",
   "metadata": {},
   "outputs": [
    {
     "data": {
      "text/plain": [
       "9.8"
      ]
     },
     "execution_count": 29,
     "metadata": {},
     "output_type": "execute_result"
    }
   ],
   "source": [
    "b"
   ]
  },
  {
   "cell_type": "code",
   "execution_count": 30,
   "id": "28910a0b",
   "metadata": {},
   "outputs": [
    {
     "data": {
      "text/plain": [
       "'DL'"
      ]
     },
     "execution_count": 30,
     "metadata": {},
     "output_type": "execute_result"
    }
   ],
   "source": [
    "c"
   ]
  },
  {
   "cell_type": "code",
   "execution_count": 31,
   "id": "5a8e9927",
   "metadata": {},
   "outputs": [
    {
     "name": "stdout",
     "output_type": "stream",
     "text": [
      "10\n"
     ]
    }
   ],
   "source": [
    "print(a)"
   ]
  },
  {
   "cell_type": "code",
   "execution_count": 32,
   "id": "6236ef1b",
   "metadata": {},
   "outputs": [
    {
     "name": "stdout",
     "output_type": "stream",
     "text": [
      "9.8\n"
     ]
    }
   ],
   "source": [
    "print(b)"
   ]
  },
  {
   "cell_type": "code",
   "execution_count": 33,
   "id": "a369c59a",
   "metadata": {},
   "outputs": [
    {
     "name": "stdout",
     "output_type": "stream",
     "text": [
      "DL\n"
     ]
    }
   ],
   "source": [
    "print(c)"
   ]
  },
  {
   "cell_type": "code",
   "execution_count": 34,
   "id": "3dac7c42",
   "metadata": {},
   "outputs": [],
   "source": [
    "a = b = c = \"AI Ki Paathshala\""
   ]
  },
  {
   "cell_type": "code",
   "execution_count": 35,
   "id": "e12554a7",
   "metadata": {},
   "outputs": [
    {
     "data": {
      "text/plain": [
       "'AI Ki Paathshala'"
      ]
     },
     "execution_count": 35,
     "metadata": {},
     "output_type": "execute_result"
    }
   ],
   "source": [
    "a"
   ]
  },
  {
   "cell_type": "code",
   "execution_count": 36,
   "id": "5a083c86",
   "metadata": {},
   "outputs": [
    {
     "data": {
      "text/plain": [
       "'AI Ki Paathshala'"
      ]
     },
     "execution_count": 36,
     "metadata": {},
     "output_type": "execute_result"
    }
   ],
   "source": [
    "b"
   ]
  },
  {
   "cell_type": "code",
   "execution_count": 37,
   "id": "a7ccafbc",
   "metadata": {},
   "outputs": [
    {
     "data": {
      "text/plain": [
       "'AI Ki Paathshala'"
      ]
     },
     "execution_count": 37,
     "metadata": {},
     "output_type": "execute_result"
    }
   ],
   "source": [
    "c"
   ]
  },
  {
   "cell_type": "code",
   "execution_count": 38,
   "id": "6e54d787",
   "metadata": {},
   "outputs": [
    {
     "name": "stdout",
     "output_type": "stream",
     "text": [
      "4595971168\n",
      "4595971168\n",
      "4595971168\n"
     ]
    }
   ],
   "source": [
    "print(id(a))\n",
    "print(id(b))\n",
    "print(id(c))"
   ]
  },
  {
   "cell_type": "code",
   "execution_count": 39,
   "id": "c510b340",
   "metadata": {},
   "outputs": [
    {
     "data": {
      "text/plain": [
       "True"
      ]
     },
     "execution_count": 39,
     "metadata": {},
     "output_type": "execute_result"
    }
   ],
   "source": [
    "id(a) == id(b) == id(c)"
   ]
  },
  {
   "cell_type": "code",
   "execution_count": 40,
   "id": "32109d92",
   "metadata": {},
   "outputs": [
    {
     "name": "stdout",
     "output_type": "stream",
     "text": [
      "5 10\n"
     ]
    }
   ],
   "source": [
    "x = 5\n",
    "y = 10\n",
    "print(x, y)"
   ]
  },
  {
   "cell_type": "code",
   "execution_count": 41,
   "id": "805df218",
   "metadata": {},
   "outputs": [],
   "source": [
    "# Rules for defining varaible"
   ]
  },
  {
   "cell_type": "code",
   "execution_count": 42,
   "id": "1b3b32be",
   "metadata": {},
   "outputs": [
    {
     "ename": "SyntaxError",
     "evalue": "invalid decimal literal (3837403398.py, line 3)",
     "output_type": "error",
     "traceback": [
      "\u001b[0;36m  Cell \u001b[0;32mIn[42], line 3\u001b[0;36m\u001b[0m\n\u001b[0;31m    1name = \"anup\"\u001b[0m\n\u001b[0m    ^\u001b[0m\n\u001b[0;31mSyntaxError\u001b[0m\u001b[0;31m:\u001b[0m invalid decimal literal\n"
     ]
    }
   ],
   "source": [
    "# varaible name cannot start with number\n",
    "\n",
    "1name = \"anup\""
   ]
  },
  {
   "cell_type": "code",
   "execution_count": 43,
   "id": "98fd4c30",
   "metadata": {},
   "outputs": [
    {
     "ename": "SyntaxError",
     "evalue": "invalid decimal literal (2439929725.py, line 1)",
     "output_type": "error",
     "traceback": [
      "\u001b[0;36m  Cell \u001b[0;32mIn[43], line 1\u001b[0;36m\u001b[0m\n\u001b[0;31m    564number = 786\u001b[0m\n\u001b[0m      ^\u001b[0m\n\u001b[0;31mSyntaxError\u001b[0m\u001b[0;31m:\u001b[0m invalid decimal literal\n"
     ]
    }
   ],
   "source": [
    "564number = 786"
   ]
  },
  {
   "cell_type": "code",
   "execution_count": 44,
   "id": "9a114871",
   "metadata": {},
   "outputs": [],
   "source": [
    "name234 = 'anup'"
   ]
  },
  {
   "cell_type": "code",
   "execution_count": 45,
   "id": "618cba91",
   "metadata": {},
   "outputs": [
    {
     "name": "stdout",
     "output_type": "stream",
     "text": [
      "anup\n"
     ]
    }
   ],
   "source": [
    "print(name234)"
   ]
  },
  {
   "cell_type": "code",
   "execution_count": 46,
   "id": "2965c723",
   "metadata": {},
   "outputs": [],
   "source": [
    "# variables are case sensitive(lower case and upper case)\n",
    "\n",
    "name = 'Anup'\n",
    "\n",
    "Name = \"AI ki Paathshala\""
   ]
  },
  {
   "cell_type": "code",
   "execution_count": 47,
   "id": "fd9b109f",
   "metadata": {},
   "outputs": [
    {
     "name": "stdout",
     "output_type": "stream",
     "text": [
      "Anup\n"
     ]
    }
   ],
   "source": [
    "print(name)"
   ]
  },
  {
   "cell_type": "code",
   "execution_count": 48,
   "id": "520528c8",
   "metadata": {},
   "outputs": [
    {
     "name": "stdout",
     "output_type": "stream",
     "text": [
      "AI ki Paathshala\n"
     ]
    }
   ],
   "source": [
    "print(Name)"
   ]
  },
  {
   "cell_type": "code",
   "execution_count": 49,
   "id": "3e15f43d",
   "metadata": {},
   "outputs": [
    {
     "data": {
      "text/plain": [
       "False"
      ]
     },
     "execution_count": 49,
     "metadata": {},
     "output_type": "execute_result"
    }
   ],
   "source": [
    "id(name) == id(Name)"
   ]
  },
  {
   "cell_type": "code",
   "execution_count": 50,
   "id": "4ff1bf54",
   "metadata": {},
   "outputs": [],
   "source": [
    "# Don't use python in-bulit function/date-type as your variable"
   ]
  },
  {
   "cell_type": "code",
   "execution_count": 51,
   "id": "89f27707",
   "metadata": {},
   "outputs": [
    {
     "ename": "TypeError",
     "evalue": "'int' object is not callable",
     "output_type": "error",
     "traceback": [
      "\u001b[0;31m---------------------------------------------------------------------------\u001b[0m",
      "\u001b[0;31mTypeError\u001b[0m                                 Traceback (most recent call last)",
      "Cell \u001b[0;32mIn[51], line 2\u001b[0m\n\u001b[1;32m      1\u001b[0m \u001b[38;5;28mprint\u001b[39m \u001b[38;5;241m=\u001b[39m \u001b[38;5;241m100\u001b[39m\n\u001b[0;32m----> 2\u001b[0m \u001b[38;5;28mprint\u001b[39m(\u001b[38;5;28mprint\u001b[39m)\n",
      "\u001b[0;31mTypeError\u001b[0m: 'int' object is not callable"
     ]
    }
   ],
   "source": [
    "print = 100\n",
    "print(print)"
   ]
  },
  {
   "cell_type": "code",
   "execution_count": 52,
   "id": "2c24eb55",
   "metadata": {},
   "outputs": [
    {
     "ename": "TypeError",
     "evalue": "'int' object is not callable",
     "output_type": "error",
     "traceback": [
      "\u001b[0;31m---------------------------------------------------------------------------\u001b[0m",
      "\u001b[0;31mTypeError\u001b[0m                                 Traceback (most recent call last)",
      "Cell \u001b[0;32mIn[52], line 2\u001b[0m\n\u001b[1;32m      1\u001b[0m \u001b[38;5;28mint\u001b[39m \u001b[38;5;241m=\u001b[39m \u001b[38;5;241m16\u001b[39m\n\u001b[0;32m----> 2\u001b[0m \u001b[38;5;28mprint\u001b[39m(\u001b[38;5;28mint\u001b[39m)\n",
      "\u001b[0;31mTypeError\u001b[0m: 'int' object is not callable"
     ]
    }
   ],
   "source": [
    "int = 16\n",
    "print(int)"
   ]
  },
  {
   "cell_type": "code",
   "execution_count": 53,
   "id": "0f3c038f",
   "metadata": {},
   "outputs": [],
   "source": [
    "number_1 = 16"
   ]
  },
  {
   "cell_type": "code",
   "execution_count": 54,
   "id": "331190b1",
   "metadata": {},
   "outputs": [
    {
     "data": {
      "text/plain": [
       "16"
      ]
     },
     "execution_count": 54,
     "metadata": {},
     "output_type": "execute_result"
    }
   ],
   "source": [
    "number_1"
   ]
  },
  {
   "cell_type": "code",
   "execution_count": 55,
   "id": "ded76b8f",
   "metadata": {},
   "outputs": [],
   "source": [
    "# varaible name can only contain alpha-numeric characters and underscores(A-Z, 0-9, a-z, _)"
   ]
  },
  {
   "cell_type": "code",
   "execution_count": 56,
   "id": "e52d56d1",
   "metadata": {},
   "outputs": [
    {
     "ename": "SyntaxError",
     "evalue": "invalid syntax (741106097.py, line 1)",
     "output_type": "error",
     "traceback": [
      "\u001b[0;36m  Cell \u001b[0;32mIn[56], line 1\u001b[0;36m\u001b[0m\n\u001b[0;31m    A B C D .....Z\u001b[0m\n\u001b[0m      ^\u001b[0m\n\u001b[0;31mSyntaxError\u001b[0m\u001b[0;31m:\u001b[0m invalid syntax\n"
     ]
    }
   ],
   "source": [
    "A B C D .....Z\n",
    "a b c d .....z\n",
    "0 1 2 3......9\n",
    "_"
   ]
  },
  {
   "cell_type": "code",
   "execution_count": 57,
   "id": "937750f2",
   "metadata": {},
   "outputs": [
    {
     "ename": "SyntaxError",
     "evalue": "invalid syntax (3688610976.py, line 1)",
     "output_type": "error",
     "traceback": [
      "\u001b[0;36m  Cell \u001b[0;32mIn[57], line 1\u001b[0;36m\u001b[0m\n\u001b[0;31m    name@ = 'anup'\u001b[0m\n\u001b[0m          ^\u001b[0m\n\u001b[0;31mSyntaxError\u001b[0m\u001b[0;31m:\u001b[0m invalid syntax\n"
     ]
    }
   ],
   "source": [
    "name@ = 'anup'"
   ]
  },
  {
   "cell_type": "code",
   "execution_count": 58,
   "id": "48067649",
   "metadata": {},
   "outputs": [
    {
     "ename": "SyntaxError",
     "evalue": "invalid syntax (1371804026.py, line 1)",
     "output_type": "error",
     "traceback": [
      "\u001b[0;36m  Cell \u001b[0;32mIn[58], line 1\u001b[0;36m\u001b[0m\n\u001b[0;31m    name& = 'John'\u001b[0m\n\u001b[0m          ^\u001b[0m\n\u001b[0;31mSyntaxError\u001b[0m\u001b[0;31m:\u001b[0m invalid syntax\n"
     ]
    }
   ],
   "source": [
    "name& = 'John'"
   ]
  },
  {
   "cell_type": "code",
   "execution_count": 59,
   "id": "d3230a3d",
   "metadata": {},
   "outputs": [
    {
     "ename": "SyntaxError",
     "evalue": "invalid syntax (2476894033.py, line 1)",
     "output_type": "error",
     "traceback": [
      "\u001b[0;36m  Cell \u001b[0;32mIn[59], line 1\u001b[0;36m\u001b[0m\n\u001b[0;31m    fruit?? = 'cherry'\u001b[0m\n\u001b[0m         ^\u001b[0m\n\u001b[0;31mSyntaxError\u001b[0m\u001b[0;31m:\u001b[0m invalid syntax\n"
     ]
    }
   ],
   "source": [
    "fruit?? = 'cherry'"
   ]
  },
  {
   "cell_type": "code",
   "execution_count": 60,
   "id": "8e4a94e9",
   "metadata": {},
   "outputs": [],
   "source": [
    "name_a = 'Mary'"
   ]
  },
  {
   "cell_type": "code",
   "execution_count": 61,
   "id": "b10634f4",
   "metadata": {},
   "outputs": [
    {
     "ename": "TypeError",
     "evalue": "'int' object is not callable",
     "output_type": "error",
     "traceback": [
      "\u001b[0;31m---------------------------------------------------------------------------\u001b[0m",
      "\u001b[0;31mTypeError\u001b[0m                                 Traceback (most recent call last)",
      "Cell \u001b[0;32mIn[61], line 1\u001b[0m\n\u001b[0;32m----> 1\u001b[0m \u001b[38;5;28mprint\u001b[39m(name_a)\n",
      "\u001b[0;31mTypeError\u001b[0m: 'int' object is not callable"
     ]
    }
   ],
   "source": [
    "print(name_a)"
   ]
  },
  {
   "cell_type": "code",
   "execution_count": 62,
   "id": "64091d45",
   "metadata": {},
   "outputs": [],
   "source": [
    "# %^*()<>?///{\\\\]][!!!!]} special characters in python\n",
    "# you are not supposed to use special characters as your variable name"
   ]
  }
 ],
 "metadata": {
  "kernelspec": {
   "display_name": "Python 3 (ipykernel)",
   "language": "python",
   "name": "python3"
  },
  "language_info": {
   "codemirror_mode": {
    "name": "ipython",
    "version": 3
   },
   "file_extension": ".py",
   "mimetype": "text/x-python",
   "name": "python",
   "nbconvert_exporter": "python",
   "pygments_lexer": "ipython3",
   "version": "3.11.4"
  }
 },
 "nbformat": 4,
 "nbformat_minor": 5
}
